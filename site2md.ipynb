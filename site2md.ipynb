{
 "cells": [
  {
   "cell_type": "code",
   "execution_count": 1,
   "metadata": {},
   "outputs": [],
   "source": [
    "from selenium import webdriver\n",
    "from selenium.webdriver.firefox.options import Options as FirefoxOptions\n",
    "from selenium.webdriver.chrome.options import Options as ChromeOptions\n",
    "from selenium.webdriver.common.by import By\n",
    "from selenium.webdriver.support.ui import WebDriverWait\n",
    "from selenium.webdriver.support import expected_conditions as EC\n",
    "from bs4 import BeautifulSoup\n",
    "\n",
    "import os\n",
    "import time\n",
    "from urllib.parse import urljoin, urlparse\n",
    "\n",
    "\n"
   ]
  },
  {
   "cell_type": "code",
   "execution_count": 2,
   "metadata": {},
   "outputs": [],
   "source": [
    "def setup_driver(): \n",
    "    try: \n",
    "        firefox_options = FirefoxOptions()\n",
    "        firefox_options.add_argument('--headless')\n",
    "\n",
    "        return webdriver.Firefox(options=firefox_options)\n",
    "    \n",
    "    except: \n",
    "        print(\"failed to get firefox\")\n",
    "\n",
    "        try: \n",
    "            chrome_options = ChromeOptions()\n",
    "            chrome_options.add_argument('--headless')\n",
    "\n",
    "            return webdriver.Chrome(options=chrome_options)\n",
    "        \n",
    "        except: \n",
    "\n",
    "            print(\"Couldn't get Chrome running\")\n",
    "\n",
    "            return None"
   ]
  },
  {
   "cell_type": "code",
   "execution_count": 3,
   "metadata": {},
   "outputs": [],
   "source": [
    "def get_all_urls(start_url, driver):\n",
    "    driver.get(start_url)\n",
    "\n",
    "\n",
    "    WebDriverWait(driver, 10).until(\n",
    "        EC.presence_of_element_located((By.TAG_NAME, \"body\"))\n",
    "    ) \n",
    "\n",
    "\n",
    "    domain = urlparse(start_url).netloc\n",
    "    urls_to_visit = set([start_url])\n",
    "\n",
    "    visited_urls = set()\n",
    "\n",
    "    while urls_to_visit: \n",
    "        current_url = urls_to_visit.pop()\n",
    "        if current_url not in visited_urls: \n",
    "            try: \n",
    "                driver.get(current_url)\n",
    "                visited_urls.add(current_url)\n",
    "\n",
    "                links = driver.find_elements(By.TAG_NAME, \"a\")\n",
    "                for link in links: \n",
    "                    href = link.get_attribute('href')\n",
    "                    if href and urlparse(href).netloc == domain: \n",
    "                        full_url = urljoin(start_url, href)\n",
    "                        urls_to_visit.add(full_url)\n",
    "                \n",
    "                print(f\"Procceed: {full_url}\")\n",
    "\n",
    "            except Exception as e:\n",
    "                print(f\"Error processing {current_url}: {str(e)}\")\n",
    "\n",
    "            time.sleep(1)\n",
    "\n",
    "    return list(visited_urls)                \n"
   ]
  },
  {
   "cell_type": "code",
   "execution_count": 4,
   "metadata": {},
   "outputs": [],
   "source": [
    "def get_page_text(url, driver):\n",
    "    driver.get(url)\n",
    "    WebDriverWait(driver, 10).until(\n",
    "        EC.presence_of_element_located((By.TAG_NAME, \"body\"))\n",
    "\n",
    "    )\n",
    "    page_source = driver.page_source\n",
    "\n",
    "    soup = BeautifulSoup(page_source, 'html.parser')\n",
    "    text = soup.get_text(separator=\"\\n\", strip=True)\n",
    "\n",
    "    return text"
   ]
  },
  {
   "cell_type": "code",
   "execution_count": 5,
   "metadata": {},
   "outputs": [],
   "source": [
    "def save_as_markdown(text, filename): \n",
    "    with open(filename, 'w', encoding='utf-8') as f: \n",
    "        f.write(text)"
   ]
  },
  {
   "cell_type": "code",
   "execution_count": 6,
   "metadata": {},
   "outputs": [],
   "source": [
    "driver = setup_driver()"
   ]
  },
  {
   "cell_type": "code",
   "execution_count": 14,
   "metadata": {},
   "outputs": [
    {
     "name": "stdout",
     "output_type": "stream",
     "text": [
      "Procceed: https://aayushakacloudy.is-a.dev/hire-me/Resume_2024.pdf\n",
      "Procceed: https://aayushakacloudy.is-a.dev/ml-progress\n",
      "Procceed: https://aayushakacloudy.is-a.dev/portfolio/work/dice-shot\n",
      "Procceed: https://aayushakacloudy.is-a.dev/\n",
      "Procceed: https://aayushakacloudy.is-a.dev/hire-me/Resume_2024.pdf\n",
      "Procceed: https://aayushakacloudy.is-a.dev/\n",
      "Procceed: https://aayushakacloudy.is-a.dev/hire-me/Resume_2024.pdf#page=1&zoom=auto,-112,842\n",
      "Procceed: https://aayushakacloudy.is-a.dev/\n",
      "Procceed: https://aayushakacloudy.is-a.dev/hire-me/Resume_2024.pdf#page=1&zoom=auto,-112,842\n",
      "Procceed: https://aayushakacloudy.is-a.dev/hire-me/Resume_2024.pdf#page=2&zoom=auto,-112,842\n",
      "Procceed: https://aayushakacloudy.is-a.dev/portfolio/work/house-paint/#\n",
      "Procceed: https://aayushakacloudy.is-a.dev/portfolio/work/bomber-boy/#\n",
      "Procceed: https://aayushakacloudy.is-a.dev/hire-me/Resume_2024.pdf#page=1&zoom=auto,-112,842\n",
      "Procceed: https://aayushakacloudy.is-a.dev/portfolio/work/dice-shot\n",
      "Procceed: https://aayushakacloudy.is-a.dev/hire-me/Resume_2024.pdf#page=2&zoom=auto,-112,842\n",
      "Procceed: https://aayushakacloudy.is-a.dev/portfolio/work/house-paint/#\n",
      "Procceed: https://aayushakacloudy.is-a.dev/\n",
      "Procceed: https://aayushakacloudy.is-a.dev/portfolio/work/dice-shot\n",
      "Procceed: https://aayushakacloudy.is-a.dev/portfolio/work/dice-shot\n",
      "Procceed: https://aayushakacloudy.is-a.dev/portfolio/work/bomber-boy/#\n",
      "Procceed: https://aayushakacloudy.is-a.dev/portfolio/work/bomber-boy/#\n"
     ]
    }
   ],
   "source": [
    "start_url = \"http://aayushakacloudy.is-a.dev\"\n",
    "\n",
    "urls = get_all_urls(start_url, driver=driver)"
   ]
  },
  {
   "cell_type": "code",
   "execution_count": 8,
   "metadata": {},
   "outputs": [],
   "source": [
    "def site_2_md(site: str, dir_name: str):\n",
    "    \n",
    "    driver = setup_driver() \n",
    "    start_url = site\n",
    "    urls = get_all_urls(start_url, driver)\n",
    "\n",
    "    \n",
    "    os.makedirs(f\"{dir_name}\", exist_ok=True)\n",
    "\n",
    "    for i, url in enumerate(urls): \n",
    "        try: \n",
    "            text = get_page_text(url, driver)\n",
    "            filename = f\"{dir_name}/page_{i+1}.md\"\n",
    "            save_as_markdown(text, filename)\n",
    "\n",
    "            print(f\"Saved {url} as {filename}\")\n",
    "        except Exception as e:\n",
    "            print(f\"Error processing {url}: \\n {str(e)}\")\n",
    "        \n",
    "        time.sleep(2) "
   ]
  },
  {
   "cell_type": "code",
   "execution_count": 19,
   "metadata": {},
   "outputs": [],
   "source": [
    "os.makedirs(\"site_data\", exist_ok=True)"
   ]
  },
  {
   "cell_type": "code",
   "execution_count": 20,
   "metadata": {},
   "outputs": [
    {
     "name": "stdout",
     "output_type": "stream",
     "text": [
      "Saved https://aayushakacloudy.is-a.dev/hire-me/Resume_2024.pdf#page=1 as site_data/page_1.md\n",
      "Saved https://aayushakacloudy.is-a.dev/portfolio/work/house-paint/# as site_data/page_2.md\n",
      "Saved https://aayushakacloudy.is-a.dev/portfolio as site_data/page_3.md\n",
      "Saved https://aayushakacloudy.is-a.dev/portfolio/work/bomber-boy as site_data/page_4.md\n",
      "Saved https://aayushakacloudy.is-a.dev/portfolio/work/dice-shot as site_data/page_5.md\n",
      "Saved https://aayushakacloudy.is-a.dev/portfolio/work/forest-app as site_data/page_6.md\n",
      "Saved https://aayushakacloudy.is-a.dev/hire-me/Resume_2024.pdf#page=2 as site_data/page_7.md\n",
      "Saved https://aayushakacloudy.is-a.dev/portfolio/work/dice-shot/# as site_data/page_8.md\n",
      "Saved https://aayushakacloudy.is-a.dev/hire-me/Resume_2024.pdf#page=1&zoom=auto,-112,842 as site_data/page_9.md\n",
      "Saved http://aayushakacloudy.is-a.dev as site_data/page_10.md\n",
      "Saved https://aayushakacloudy.is-a.dev/portfolio/#contact as site_data/page_11.md\n",
      "Saved https://aayushakacloudy.is-a.dev/hire-me/Resume_2024.pdf#page=2&zoom=auto,-112,842 as site_data/page_12.md\n",
      "Saved https://aayushakacloudy.is-a.dev/portfolio/work/house-paint as site_data/page_13.md\n",
      "Saved https://aayushakacloudy.is-a.dev/blog as site_data/page_14.md\n",
      "Saved https://aayushakacloudy.is-a.dev/ml-progress as site_data/page_15.md\n",
      "Saved https://aayushakacloudy.is-a.dev/portfolio/work/forest-app/# as site_data/page_16.md\n",
      "Saved https://aayushakacloudy.is-a.dev/portfolio/#about-me as site_data/page_17.md\n",
      "Saved https://aayushakacloudy.is-a.dev/portfolio/#work as site_data/page_18.md\n",
      "Saved https://aayushakacloudy.is-a.dev/portfolio/work/bomber-boy/# as site_data/page_19.md\n",
      "Saved https://aayushakacloudy.is-a.dev/hire-me/Resume_2024.pdf as site_data/page_20.md\n",
      "Saved https://aayushakacloudy.is-a.dev/ as site_data/page_21.md\n"
     ]
    }
   ],
   "source": [
    "for i, url in enumerate(urls): \n",
    "    try: \n",
    "        text = get_page_text(url, driver)\n",
    "        filename = f\"site_data/page_{i+1}.md\"\n",
    "\n",
    "        save_as_markdown(text, filename)\n",
    "\n",
    "        print(f\"Saved {url} as {filename}\")\n",
    "    except Exception as e: \n",
    "        print(f\"Error processing {url}: {str(e)}\")\n",
    "    \n",
    "    time.sleep(2)"
   ]
  }
 ],
 "metadata": {
  "kernelspec": {
   "display_name": ".venv",
   "language": "python",
   "name": "python3"
  },
  "language_info": {
   "codemirror_mode": {
    "name": "ipython",
    "version": 3
   },
   "file_extension": ".py",
   "mimetype": "text/x-python",
   "name": "python",
   "nbconvert_exporter": "python",
   "pygments_lexer": "ipython3",
   "version": "3.10.14"
  }
 },
 "nbformat": 4,
 "nbformat_minor": 2
}
