{
 "cells": [
  {
   "cell_type": "code",
   "execution_count": 12,
   "metadata": {},
   "outputs": [],
   "source": [
    "from Site2md import Site2MD"
   ]
  },
  {
   "cell_type": "code",
   "execution_count": 13,
   "metadata": {},
   "outputs": [],
   "source": [
    "site2md = Site2MD()"
   ]
  },
  {
   "cell_type": "code",
   "execution_count": 14,
   "metadata": {},
   "outputs": [
    {
     "ename": "AttributeError",
     "evalue": "'Site2MD' object has no attribute 'get_all_urls'",
     "output_type": "error",
     "traceback": [
      "\u001b[0;31m---------------------------------------------------------------------------\u001b[0m",
      "\u001b[0;31mAttributeError\u001b[0m                            Traceback (most recent call last)",
      "Cell \u001b[0;32mIn[14], line 5\u001b[0m\n\u001b[1;32m      1\u001b[0m url \u001b[38;5;241m=\u001b[39m \u001b[38;5;124m\"\u001b[39m\u001b[38;5;124mhttps://demonkingswarn.is-a.dev\u001b[39m\u001b[38;5;124m\"\u001b[39m\n\u001b[1;32m      3\u001b[0m driver \u001b[38;5;241m=\u001b[39m site2md\u001b[38;5;241m.\u001b[39msetup_driver()\n\u001b[0;32m----> 5\u001b[0m sites \u001b[38;5;241m=\u001b[39m \u001b[43msite2md\u001b[49m\u001b[38;5;241;43m.\u001b[39;49m\u001b[43mget_all_urls\u001b[49m(url, driver)\n\u001b[1;32m      6\u001b[0m sites\n",
      "\u001b[0;31mAttributeError\u001b[0m: 'Site2MD' object has no attribute 'get_all_urls'"
     ]
    }
   ],
   "source": [
    "\n",
    "\n",
    "url = \"https://demonkingswarn.is-a.dev\"\n",
    "\n",
    "driver = site2md.setup_driver()\n",
    "\n",
    "sites = site2md.get_all_urls(url, driver)\n",
    "sites"
   ]
  },
  {
   "cell_type": "code",
   "execution_count": 5,
   "metadata": {},
   "outputs": [
    {
     "data": {
      "text/plain": [
       "{'https://demonkingswarn.is-a.dev',\n",
       " 'https://demonkingswarn.is-a.dev/',\n",
       " 'https://demonkingswarn.is-a.dev/blog',\n",
       " 'https://demonkingswarn.is-a.dev/blog/2023/02/17/hello-blog',\n",
       " 'https://demonkingswarn.is-a.dev/blog/2023/02/18/fix-for-phone-not-being-detected-on-arch-linux',\n",
       " 'https://demonkingswarn.is-a.dev/blog/2023/07/03/what-are-my-pronouns',\n",
       " 'https://demonkingswarn.is-a.dev/blog/2023/07/13/wine-discord-rpc',\n",
       " 'https://demonkingswarn.is-a.dev/blog/2023/10/22/i-hate-java',\n",
       " 'https://demonkingswarn.is-a.dev/blog/2023/11/06/i-hate-writing-code-on-paper',\n",
       " 'https://demonkingswarn.is-a.dev/blog/2024/03/17/emulation-aint-evil',\n",
       " 'https://demonkingswarn.is-a.dev/blog/2024/04/13/fuck-ubisoft',\n",
       " 'https://demonkingswarn.is-a.dev/blog/2024/04/14/new-percy-jackson-book',\n",
       " 'https://demonkingswarn.is-a.dev/blog/2024/04/18/sharing-the-brushes',\n",
       " 'https://demonkingswarn.is-a.dev/blog/2024/04/19/my-blogging-system',\n",
       " 'https://demonkingswarn.is-a.dev/blog/2024/04/26/RISC-V-University-Assignment',\n",
       " 'https://demonkingswarn.is-a.dev/blog/2024/05/06/wayland-wins-me-over',\n",
       " 'https://demonkingswarn.is-a.dev/blog/2024/05/17/i-dont-trust-ubisoft',\n",
       " 'https://demonkingswarn.is-a.dev/blog/2024/05/20/programs-i-use',\n",
       " 'https://demonkingswarn.is-a.dev/blog/2024/05/26/life-update',\n",
       " 'https://demonkingswarn.is-a.dev/blog/2024/06/13/new-life-is-strange-game',\n",
       " 'https://demonkingswarn.is-a.dev/blog/2024/06/25/my-thailand-experience',\n",
       " 'https://demonkingswarn.is-a.dev/blog/2024/07/16/broken-trusts',\n",
       " 'https://demonkingswarn.is-a.dev/blog/braindumps',\n",
       " 'https://demonkingswarn.is-a.dev/blog/feed.xml',\n",
       " 'https://demonkingswarn.is-a.dev/blog/posts',\n",
       " 'https://demonkingswarn.is-a.dev/donate',\n",
       " 'https://demonkingswarn.is-a.dev/gallery',\n",
       " 'https://demonkingswarn.is-a.dev/linktree',\n",
       " 'https://demonkingswarn.is-a.dev/recipes',\n",
       " 'https://demonkingswarn.is-a.dev/recipes/',\n",
       " 'https://demonkingswarn.is-a.dev/recipes/meat-on-a-bone',\n",
       " 'https://demonkingswarn.is-a.dev/recipes/potato-soup',\n",
       " 'https://demonkingswarn.is-a.dev/recipes/potato-soup/',\n",
       " 'https://demonkingswarn.is-a.dev/recipes/ramen',\n",
       " 'https://demonkingswarn.is-a.dev/recipes/ramen/',\n",
       " 'https://demonkingswarn.is-a.dev/resume.pdf',\n",
       " 'https://demonkingswarn.is-a.dev/resume.pdf#page=1',\n",
       " 'https://demonkingswarn.is-a.dev/resume.pdf#page=1&zoom=auto,-52,842',\n",
       " 'https://demonkingswarn.is-a.dev/resume.pdf#page=1&zoom=page-width,-11,430',\n",
       " 'https://demonkingswarn.is-a.dev/resume.pdf#page=1&zoom=page-width,-11,505',\n",
       " 'https://demonkingswarn.is-a.dev/resume.pdf#page=1&zoom=page-width,-11,596',\n",
       " 'https://demonkingswarn.is-a.dev/resume.pdf#page=1&zoom=page-width,-11,653',\n",
       " 'https://demonkingswarn.is-a.dev/resume.pdf#page=1&zoom=page-width,-11,695',\n",
       " 'https://demonkingswarn.is-a.dev/resume.pdf#page=1&zoom=page-width,-11,842',\n",
       " 'https://demonkingswarn.is-a.dev/resume.pdf#page=2',\n",
       " 'https://demonkingswarn.is-a.dev/resume.pdf#page=2&zoom=page-width,-11,570',\n",
       " 'https://demonkingswarn.is-a.dev/resume.pdf#page=2&zoom=page-width,-11,707',\n",
       " 'https://demonkingswarn.is-a.dev/resume.pdf#page=2&zoom=page-width,-11,842',\n",
       " 'https://demonkingswarn.is-a.dev/resume.pdf#pdf%3Abm1',\n",
       " 'https://demonkingswarn.is-a.dev/resume.pdf#pdf%3Abm2',\n",
       " 'https://demonkingswarn.is-a.dev/resume.pdf#pdf%3Abm3',\n",
       " 'https://demonkingswarn.is-a.dev/resume.pdf#pdf%3Abm4',\n",
       " 'https://demonkingswarn.is-a.dev/resume.pdf#pdf%3Abm5',\n",
       " 'https://demonkingswarn.is-a.dev/resume.pdf#pdf%3Abm6',\n",
       " 'https://demonkingswarn.is-a.dev/resume.pdf#pdf%3Abm7'}"
      ]
     },
     "execution_count": 5,
     "metadata": {},
     "output_type": "execute_result"
    }
   ],
   "source": [
    "set(sites)"
   ]
  },
  {
   "cell_type": "code",
   "execution_count": 6,
   "metadata": {},
   "outputs": [
    {
     "data": {
      "text/plain": [
       "False"
      ]
     },
     "execution_count": 6,
     "metadata": {},
     "output_type": "execute_result"
    }
   ],
   "source": [
    "sites == set(sites)"
   ]
  },
  {
   "cell_type": "code",
   "execution_count": 7,
   "metadata": {},
   "outputs": [
    {
     "data": {
      "text/plain": [
       "(55, 55)"
      ]
     },
     "execution_count": 7,
     "metadata": {},
     "output_type": "execute_result"
    }
   ],
   "source": [
    "len(sites), len(set(sites))"
   ]
  },
  {
   "cell_type": "code",
   "execution_count": 16,
   "metadata": {},
   "outputs": [
    {
     "ename": "AttributeError",
     "evalue": "'Site2MD' object has no attribute 'get_all_urls'",
     "output_type": "error",
     "traceback": [
      "\u001b[0;31m---------------------------------------------------------------------------\u001b[0m",
      "\u001b[0;31mAttributeError\u001b[0m                            Traceback (most recent call last)",
      "Cell \u001b[0;32mIn[16], line 6\u001b[0m\n\u001b[1;32m      1\u001b[0m url \u001b[38;5;241m=\u001b[39m \u001b[38;5;124m\"\u001b[39m\u001b[38;5;124mhttps://cavaathleisure.com/\u001b[39m\u001b[38;5;124m\"\u001b[39m\n\u001b[1;32m      4\u001b[0m driver \u001b[38;5;241m=\u001b[39m site2md\u001b[38;5;241m.\u001b[39msetup_driver()\n\u001b[0;32m----> 6\u001b[0m sites \u001b[38;5;241m=\u001b[39m \u001b[43msite2md\u001b[49m\u001b[38;5;241;43m.\u001b[39;49m\u001b[43mget_all_urls\u001b[49m(url, driver)\n\u001b[1;32m      7\u001b[0m sites\n",
      "\u001b[0;31mAttributeError\u001b[0m: 'Site2MD' object has no attribute 'get_all_urls'"
     ]
    }
   ],
   "source": [
    "url = \"https://cavaathleisure.com/\"\n",
    "\n",
    "\n",
    "driver = site2md.setup_driver()\n",
    "\n",
    "sites = site2md.get_all_urls(url, driver)\n",
    "sites"
   ]
  },
  {
   "cell_type": "code",
   "execution_count": null,
   "metadata": {},
   "outputs": [],
   "source": []
  }
 ],
 "metadata": {
  "kernelspec": {
   "display_name": ".venv",
   "language": "python",
   "name": "python3"
  },
  "language_info": {
   "codemirror_mode": {
    "name": "ipython",
    "version": 3
   },
   "file_extension": ".py",
   "mimetype": "text/x-python",
   "name": "python",
   "nbconvert_exporter": "python",
   "pygments_lexer": "ipython3",
   "version": "3.10.14"
  }
 },
 "nbformat": 4,
 "nbformat_minor": 2
}
